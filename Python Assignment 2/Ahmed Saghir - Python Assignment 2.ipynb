{
 "cells": [
  {
   "cell_type": "markdown",
   "id": "6be770e3-9c14-4e74-8836-373e3bc0b323",
   "metadata": {},
   "source": [
    "Task 1: Dictionary Operations"
   ]
  },
  {
   "cell_type": "code",
   "execution_count": 74,
   "id": "4738bd09-603a-40e6-b99f-3f655e6b2f3b",
   "metadata": {},
   "outputs": [
    {
     "name": "stdout",
     "output_type": "stream",
     "text": [
      "dict_keys(['Paksitan', 'Egypt', 'Netherlands', 'England', 'Ireland'])\n",
      "dict_values(['Islamabad', 'Cairo', 'Amsterdam', 'London', 'Dublin'])\n",
      "{'Paksitan': 'Islamabad', 'Egypt': 'Cairo', 'Netherlands': 'Amsterdam', 'England': 'London', 'Ireland': 'Dublin', 'Germany': 'Berlin'}\n",
      "France not found\n"
     ]
    }
   ],
   "source": [
    "#Create a dictionary named 'capitals' with key-value pairs for countries and their capitals. Print the dictionary.\n",
    "#Add a new country and its capital to the 'capitals' dictionary. Print the updated dictionary. \n",
    "#Check if 'France' exists in the 'capitals' dictionary and print an appropriate message.\n",
    "capitals = {\"Paksitan\" : \"Islamabad\",\"Egypt\" : \"Cairo\",\"Netherlands\" : \"Amsterdam\",\"England\" : \"London\",\"Ireland\" : \"Dublin\"}\n",
    "print(capitals.keys())\n",
    "print(capitals.values())\n",
    "\n",
    "capitals.update({\"Germany\": \"Berlin\"}) #Updated Dictionary\n",
    "print(capitals)\n",
    "\n",
    "search = capitals.get('France')\n",
    "if search == None:\n",
    "    print(\"France not found\")\n",
    "    capitals.update({\"France\": \"Paris\"})\n",
    "\n",
    "else:\n",
    "    print(search)"
   ]
  },
  {
   "cell_type": "markdown",
   "id": "bb1bd64b-03f6-4fb3-a46f-25afb99bd984",
   "metadata": {},
   "source": [
    "Task 2: Comparison Operators, Logical Operators, and If/Else"
   ]
  },
  {
   "cell_type": "code",
   "execution_count": 75,
   "id": "41c24da2-f5db-4dec-9424-caa8ea18bae5",
   "metadata": {},
   "outputs": [
    {
     "name": "stdin",
     "output_type": "stream",
     "text": [
      "Enter Number:  23\n"
     ]
    },
    {
     "name": "stdout",
     "output_type": "stream",
     "text": [
      "Odd\n"
     ]
    }
   ],
   "source": [
    "#Create a variable for user input and write code to check if the number is even or odd. Print the result.\n",
    "num = int(input('Enter Number: '))\n",
    "\n",
    "if (num%2)==0:\n",
    "    print('Even', end=' ')\n",
    "else:\n",
    "    print('Odd')"
   ]
  },
  {
   "cell_type": "code",
   "execution_count": 67,
   "id": "093c78c2-1567-44c8-b57f-baf873ba38a7",
   "metadata": {},
   "outputs": [
    {
     "name": "stdin",
     "output_type": "stream",
     "text": [
      "Enter Age:  25\n",
      "Enter GPA:  3.2\n"
     ]
    },
    {
     "name": "stdout",
     "output_type": "stream",
     "text": [
      "Eligible for Admission\n"
     ]
    }
   ],
   "source": [
    "#Create variables for age and GPA. Write code to check eligibility for admission based on certain conditions. Print the result.\n",
    "age = int(input('Enter Age: '))\n",
    "GPA = float(input('Enter GPA: '))\n",
    "\n",
    "if age <= 0: # ensuring age is above 0\n",
    "    print (\"Invalid Age\") \n",
    "    \n",
    "elif age >= 18 and age <= 26:\n",
    "    if GPA < 0.00 or GPA > 4.00: # ensuring gpa is between 0 and 4\n",
    "        print(\"Invalid GPA\")\n",
    "    elif GPA >= 2.0:\n",
    "        print(\"Eligible for Admission\")\n",
    "    else:\n",
    "        print(\"GPA is Less than required \")\n",
    "        \n",
    "else:\n",
    "    print(\"Above Age Limit\")"
   ]
  },
  {
   "cell_type": "markdown",
   "id": "2bae3d51-87a6-45a1-ab23-a1c9929ad062",
   "metadata": {},
   "source": [
    "Task 3: Advanced Data Types"
   ]
  },
  {
   "cell_type": "code",
   "execution_count": 79,
   "id": "f16a9cb8-a364-4c30-917b-82341e4b86c4",
   "metadata": {},
   "outputs": [
    {
     "name": "stdout",
     "output_type": "stream",
     "text": [
      "Fruits1:  {'grapes', 'banana', 'watermelon', 'orange', 'mango', 'apple'}\n",
      " \n",
      "Fruits2:  {'cherry', 'melon', 'strawberry', 'pineapple', 'orange', 'mango'}\n",
      " \n",
      " Union:  {'melon', 'strawberry', 'pineapple', 'orange', 'grapes', 'mango', 'cherry', 'banana', 'watermelon', 'apple'}\n",
      " Intersection:  {'orange', 'mango'}\n",
      " Difference for fruits1:  {'watermelon', 'grapes', 'apple', 'banana'}\n",
      " Difference for fruits2:  {'cherry', 'pineapple', 'melon', 'strawberry'}\n",
      " IsSubset?:  False\n"
     ]
    }
   ],
   "source": [
    "#Create a set named 'fruits_set' with certain fruits. Print the set.\n",
    "fruits_set = {\"mango\", \"apple\",  \"banana\", \"orange\",  \"watermelon\", \"grapes\"}\n",
    "print(\"Fruits1: \", fruits_set)\n",
    "print(\" \")\n",
    "\n",
    "#Given two sets, perform various operations like union, intersection, difference, and subset check. Print the results\n",
    "fruits_set2 = {\"strawberry\", \"pineapple\", \"orange\", \"mango\", \"cherry\", \"melon\"}\n",
    "print(\"Fruits2: \", fruits_set2)\n",
    "print(\" \")\n",
    "\n",
    "print(\" Union: \", fruits_set.union(fruits_set2))\n",
    "print(\" Intersection: \", fruits_set.intersection(fruits_set2))\n",
    "print(\" Difference for fruits1: \", fruits_set.difference(fruits_set2))\n",
    "print(\" Difference for fruits2: \", fruits_set2.difference(fruits_set))\n",
    "print(\" IsSubset?: \", fruits_set.issubset(fruits_set2))"
   ]
  },
  {
   "cell_type": "markdown",
   "id": "babd2ebc-c3cd-4113-ac7a-4df9de20b9ec",
   "metadata": {},
   "source": [
    "Task 4: Strings Manipulation"
   ]
  },
  {
   "cell_type": "code",
   "execution_count": 77,
   "id": "b4f358bd-1251-44e0-b636-0c6b567d7dc6",
   "metadata": {},
   "outputs": [
    {
     "name": "stdout",
     "output_type": "stream",
     "text": [
      " \n",
      "Length of string:  44\n",
      "Uppercase string:  THE QUICK BROWN FOX JUMPS OVER THE LAZY DOG.\n",
      "Replacing brown with red:  The quick red fox jumps over the lazy dog.\n",
      "Splitting string:  ['The', 'quick', 'brown', 'fox', 'jumps', 'over', 'the', 'lazy', 'dog.']\n",
      "Substring not found!\n"
     ]
    }
   ],
   "source": [
    "#Create a string variable with a given sentence.\n",
    "myString = (\"The quick brown fox jumps over the lazy dog.\")\n",
    "print(\" \")\n",
    "#Perform various operations like finding length, converting to uppercase, replacing words, checking for substrings, and splitting into words. \n",
    "#Print the results\n",
    "print(\"Length of string: \",len(myString))\n",
    "print(\"Uppercase string: \",myString.upper())\n",
    "print(\"Replacing brown with red: \",myString.replace(\"brown\", \"red\")) #does not change the original string\n",
    "print(\"Splitting string: \",myString.split())\n",
    "\n",
    "if \"red fox\" in myString:\n",
    "    print(\"Yes! this substring is present in the string\")\n",
    "else:\n",
    "    print(\"Substring not found!\")"
   ]
  }
 ],
 "metadata": {
  "kernelspec": {
   "display_name": "Python 3 (ipykernel)",
   "language": "python",
   "name": "python3"
  },
  "language_info": {
   "codemirror_mode": {
    "name": "ipython",
    "version": 3
   },
   "file_extension": ".py",
   "mimetype": "text/x-python",
   "name": "python",
   "nbconvert_exporter": "python",
   "pygments_lexer": "ipython3",
   "version": "3.11.5"
  }
 },
 "nbformat": 4,
 "nbformat_minor": 5
}
