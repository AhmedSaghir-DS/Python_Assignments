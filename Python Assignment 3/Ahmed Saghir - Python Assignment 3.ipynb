{
 "cells": [
  {
   "cell_type": "markdown",
   "id": "102fe30c-e98c-4fa2-ad18-c33eb73f2118",
   "metadata": {},
   "source": [
    "# Task 1:"
   ]
  },
  {
   "cell_type": "markdown",
   "id": "b3c1c553-66d8-4b3c-bf70-db54aef96449",
   "metadata": {},
   "source": [
    "Creating a Python program to simulate a simple guessing game."
   ]
  },
  {
   "cell_type": "code",
   "execution_count": 9,
   "id": "3973f0d8-c426-4dae-b956-4aca2c9ee7fc",
   "metadata": {},
   "outputs": [
    {
     "name": "stdin",
     "output_type": "stream",
     "text": [
      "Guess the secret number (between 1 and 50):  25\n"
     ]
    },
    {
     "name": "stdout",
     "output_type": "stream",
     "text": [
      "Try again! Your guess is too high. You have 4 attempts left.\n"
     ]
    },
    {
     "name": "stdin",
     "output_type": "stream",
     "text": [
      "Guess the secret number (between 1 and 50):  12\n"
     ]
    },
    {
     "name": "stdout",
     "output_type": "stream",
     "text": [
      "Try again! Your guess is too low. You have 3 attempts left.\n"
     ]
    },
    {
     "name": "stdin",
     "output_type": "stream",
     "text": [
      "Guess the secret number (between 1 and 50):  20\n"
     ]
    },
    {
     "name": "stdout",
     "output_type": "stream",
     "text": [
      "Try again! Your guess is too high. You have 2 attempts left.\n"
     ]
    },
    {
     "name": "stdin",
     "output_type": "stream",
     "text": [
      "Guess the secret number (between 1 and 50):  16\n"
     ]
    },
    {
     "name": "stdout",
     "output_type": "stream",
     "text": [
      "Try again! Your guess is too low. You have 1 attempts left.\n"
     ]
    },
    {
     "name": "stdin",
     "output_type": "stream",
     "text": [
      "Guess the secret number (between 1 and 50):  18\n"
     ]
    },
    {
     "name": "stdout",
     "output_type": "stream",
     "text": [
      "Congratulations! You guessed the secret number 18 correctly!\n"
     ]
    }
   ],
   "source": [
    "from random import randint\n",
    "\n",
    "secret_number = randint(1, 50)\n",
    "attempts_left = 5\n",
    "\n",
    "while attempts_left != 0:\n",
    "    try:\n",
    "        userNum = int(input(\"Guess the secret number (between 1 and 50): \"))\n",
    "\n",
    "    except:\n",
    "        print(\"Invalid input! Please enter a valid number.\")\n",
    "        continue\n",
    "        \n",
    "    if userNum == secret_number:\n",
    "        print(f\"Congratulations! You guessed the secret number {userNum} correctly!\" )\n",
    "        break\n",
    "    elif userNum > secret_number:\n",
    "        attempts_left -= 1\n",
    "        print(f\"Try again! Your guess is too high. You have {attempts_left} attempts left.\")\n",
    "    else:\n",
    "        attempts_left -= 1\n",
    "        print(f\"Try again! Your guess is too low. You have {attempts_left} attempts left.\")\n",
    "\n",
    "else:\n",
    "     print(f\"Game Over! The secret number was {secret_number}. Better luck next time!\")"
   ]
  },
  {
   "cell_type": "code",
   "execution_count": null,
   "id": "92b3e0d9-aef8-436a-a907-404b3b1d77b3",
   "metadata": {},
   "outputs": [],
   "source": []
  },
  {
   "cell_type": "markdown",
   "id": "826eadfd-158e-4798-aab9-237e1037f0cd",
   "metadata": {},
   "source": [
    "# Task 2:"
   ]
  },
  {
   "cell_type": "markdown",
   "id": "3a4ef9f2-6fe0-4337-b785-08a151d177c3",
   "metadata": {},
   "source": [
    "a) Write a function called num_vowels that takes in a string as an argument, and returns the \n",
    "number of vowels in that string. Print out the result for the string “Learning Python is fun \n",
    "and engaging.”"
   ]
  },
  {
   "cell_type": "code",
   "execution_count": 45,
   "id": "3ae19aa6-bca7-4ffd-9fbe-e4cc1fe22e56",
   "metadata": {},
   "outputs": [
    {
     "name": "stdout",
     "output_type": "stream",
     "text": [
      "Number of Vowels Found: 10\n"
     ]
    }
   ],
   "source": [
    "def num_vowels(_string):\n",
    "    vowelsCount = 0\n",
    "    \n",
    "    for word in _string:\n",
    "        if (word == 'a' or word == 'e' or word == 'i' or word == 'o' or word == 'u'):\n",
    "            vowelsCount +=1\n",
    "        elif (word == 'A' or word == 'E' or word == 'I' or word == 'O' or word == 'U'):\n",
    "            vowelsCount +=1\n",
    "        else:\n",
    "            pass\n",
    "    \n",
    "    return print(f\"Number of Vowels Found: {vowelsCount}\")\n",
    "\n",
    "num_vowels(\"Learning Python is fun and engaging.\")"
   ]
  },
  {
   "cell_type": "markdown",
   "id": "2dad0843-f270-4873-9dff-754975cd6dbd",
   "metadata": {},
   "source": [
    "b) Create a function called hours_to_min that converts hours into minutes. The function should \r\n",
    "take the number of hours as input and return the equivalent number of minutes. Test the \r\n",
    "function with 2.5 hours and print the result."
   ]
  },
  {
   "cell_type": "code",
   "execution_count": 46,
   "id": "b5f2d43d-c6de-468a-8666-2c30b811375b",
   "metadata": {},
   "outputs": [
    {
     "name": "stdout",
     "output_type": "stream",
     "text": [
      "150.0\n"
     ]
    }
   ],
   "source": [
    "def hours_to_min(hours):\n",
    "    minutes = hours * 60\n",
    "    return minutes\n",
    "\n",
    "conversion = hours_to_min(2.5)\n",
    "print(conversion)"
   ]
  },
  {
   "cell_type": "markdown",
   "id": "c2443d06-08f8-41f3-b8c6-bb795ddb9c87",
   "metadata": {},
   "source": [
    "c) Write a python function that takes in a number as an argument, and prints out the table of \n",
    "that number up to 12 times that number. You may name this whatever you wish."
   ]
  },
  {
   "cell_type": "code",
   "execution_count": 54,
   "id": "87cce459-fa9e-4d82-81de-4b3a1d6689d7",
   "metadata": {},
   "outputs": [
    {
     "name": "stdin",
     "output_type": "stream",
     "text": [
      "Enter a Number:  8\n"
     ]
    },
    {
     "name": "stdout",
     "output_type": "stream",
     "text": [
      "1 x 8 = 8\n",
      "2 x 8 = 16\n",
      "3 x 8 = 24\n",
      "4 x 8 = 32\n",
      "5 x 8 = 40\n",
      "6 x 8 = 48\n",
      "7 x 8 = 56\n",
      "8 x 8 = 64\n",
      "9 x 8 = 72\n",
      "10 x 8 = 80\n",
      "11 x 8 = 88\n",
      "12 x 8 = 96\n"
     ]
    }
   ],
   "source": [
    "def tables(number):\n",
    "    for i in range(1, 12+1):\n",
    "        print (f'{i} x {number} = {i * number}')\n",
    "\n",
    "num = int(input(\"Enter a Number: \"))\n",
    "tables(num)"
   ]
  },
  {
   "cell_type": "markdown",
   "id": "dc9be7f1-5877-4342-b393-894d01ce382b",
   "metadata": {},
   "source": [
    "d) Check if a student is eligible for admission \n",
    "to a university ."
   ]
  },
  {
   "cell_type": "code",
   "execution_count": 82,
   "id": "b4dccfc1-1924-420b-bfbf-b195d2f96f93",
   "metadata": {},
   "outputs": [
    {
     "name": "stdin",
     "output_type": "stream",
     "text": [
      "Enter Age:  25\n",
      "Enter GPA:  3.4\n"
     ]
    },
    {
     "data": {
      "text/plain": [
       "True"
      ]
     },
     "execution_count": 82,
     "metadata": {},
     "output_type": "execute_result"
    }
   ],
   "source": [
    "def eligibility(age, GPA):\n",
    "    if age <= 0: # ensuring age is above 0\n",
    "        print (\"Invalid Age\") \n",
    "        \n",
    "    elif age >= 18:\n",
    "        if GPA < 0.00 or GPA > 4.00: # ensuring gpa is between 0 and 4\n",
    "            print(\"Invalid GPA\")\n",
    "        elif GPA >= 3.0:\n",
    "            #print(\"Eligible for Admission\")\n",
    "            return True\n",
    "        else:\n",
    "            #print(\"GPA is Less than required \")\n",
    "            return False\n",
    "    else:\n",
    "        return False\n",
    "\n",
    "\n",
    "#eligibility(GPA = 2.9, age = 40)\n",
    "#eligibility(30,3.2)\n",
    "\n",
    "_age = int(input('Enter Age: '))\n",
    "_GPA = float(input('Enter GPA: '))\n",
    "\n",
    "eligibility(GPA = _GPA, age = _age)"
   ]
  }
 ],
 "metadata": {
  "kernelspec": {
   "display_name": "Python 3 (ipykernel)",
   "language": "python",
   "name": "python3"
  },
  "language_info": {
   "codemirror_mode": {
    "name": "ipython",
    "version": 3
   },
   "file_extension": ".py",
   "mimetype": "text/x-python",
   "name": "python",
   "nbconvert_exporter": "python",
   "pygments_lexer": "ipython3",
   "version": "3.11.5"
  }
 },
 "nbformat": 4,
 "nbformat_minor": 5
}
