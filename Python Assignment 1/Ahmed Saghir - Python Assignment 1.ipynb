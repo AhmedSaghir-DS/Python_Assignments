{
 "cells": [
  {
   "cell_type": "markdown",
   "id": "b605c43c-2d5d-4f2e-9451-d1332f661373",
   "metadata": {},
   "source": [
    "Task 1: Variables and Data Types"
   ]
  },
  {
   "cell_type": "markdown",
   "id": "80692f74-178b-4963-a632-8ba6da7e421b",
   "metadata": {},
   "source": [
    "a) Create three variables: one for storing your age (integer), one for your name (string), and one to check if you are a student (Boolean). Print the variables."
   ]
  },
  {
   "cell_type": "code",
   "execution_count": 1,
   "id": "5aa63271-d821-4497-b4d1-eb4e46370e9a",
   "metadata": {},
   "outputs": [
    {
     "name": "stdout",
     "output_type": "stream",
     "text": [
      "25 Ahmed True\n"
     ]
    }
   ],
   "source": [
    "age = 25\n",
    "name = 'Ahmed'\n",
    "student = True\n",
    "print(age, name, student)"
   ]
  },
  {
   "cell_type": "markdown",
   "id": "a9c58ab3-b272-4dcd-8912-d8a106197231",
   "metadata": {},
   "source": [
    "b) Perform the following operations and print the results:\n",
    "   - Add 25 to your age variable.\n",
    "   - Concatenate your name with the string \"Smith.\"\n",
    "   - Negate the Boolean variable (if True, make it False, and vice versa)."
   ]
  },
  {
   "cell_type": "code",
   "execution_count": 2,
   "id": "ae036759-c4f8-4991-9e3b-ce6b62715efb",
   "metadata": {},
   "outputs": [
    {
     "name": "stdout",
     "output_type": "stream",
     "text": [
      "50 AhmedSmith False\n"
     ]
    }
   ],
   "source": [
    "age += 25\n",
    "name += \"Smith\"\n",
    "student = False\n",
    "print(age, name, student)"
   ]
  },
  {
   "cell_type": "markdown",
   "id": "c0bf97fe-ee20-4f87-b432-2152ee99912f",
   "metadata": {},
   "source": [
    "Task 2: Expressions and Operators"
   ]
  },
  {
   "cell_type": "markdown",
   "id": "6fbafa65-b699-4944-b9fd-6406a2aadba6",
   "metadata": {},
   "source": [
    "a) A rectangle has a width of 5.5 units and a height of 3.25 units. Store width and height in variables. Create a new variable called area and write an expression to calculate the area. Print the area in the output. \n"
   ]
  },
  {
   "cell_type": "code",
   "execution_count": 3,
   "id": "f75f50ce-2fe8-485a-bc72-16b02fd23a22",
   "metadata": {},
   "outputs": [
    {
     "name": "stdout",
     "output_type": "stream",
     "text": [
      "17.875\n"
     ]
    }
   ],
   "source": [
    "width = 5.5\n",
    "height = 3.25\n",
    "area = height * width\n",
    "print(area)"
   ]
  },
  {
   "cell_type": "markdown",
   "id": "0b52e77d-d767-4131-9299-8253cdb52bc3",
   "metadata": {},
   "source": [
    "b) Create a temperature variable in Celsius. Convert it to Fahrenheit using the formula: F = (C * 9/5) + 32. Store this temperature in a variable called Fahrenheit and print this variable.\n"
   ]
  },
  {
   "cell_type": "code",
   "execution_count": 4,
   "id": "f2186ee9-b089-4a9b-8b7c-cf7071c0957f",
   "metadata": {},
   "outputs": [
    {
     "name": "stdout",
     "output_type": "stream",
     "text": [
      "77.0\n"
     ]
    }
   ],
   "source": [
    "temperature = C= 25\n",
    "Fahrenheit = (C * 9/5) + 32\n",
    "print(Fahrenheit)"
   ]
  },
  {
   "cell_type": "markdown",
   "id": "04be0d8b-0baf-4201-b330-3550c84c12be",
   "metadata": {},
   "source": [
    "c) Create a variable called radius and give it a value of 5. Calculate the area of a circle with this radius and store it in a variable called area. Print area at the end of your code. (Use the formula: area = π * radius^2, where π (pi) is approximately 3.14159). \n"
   ]
  },
  {
   "cell_type": "code",
   "execution_count": 5,
   "id": "acb84786-d1bf-4766-84e2-282ae79f99dc",
   "metadata": {},
   "outputs": [
    {
     "name": "stdout",
     "output_type": "stream",
     "text": [
      "78.53975\n"
     ]
    }
   ],
   "source": [
    "radius = 5\n",
    "π = 3.14159\n",
    "area = π * (radius**2)\n",
    "print(area)"
   ]
  },
  {
   "cell_type": "markdown",
   "id": "ea9abf6c-72de-4d40-82a1-4f35af4b58dd",
   "metadata": {},
   "source": [
    "Task 3: Introduction to Data Structures"
   ]
  },
  {
   "cell_type": "markdown",
   "id": "10428bcc-a791-46e1-b27c-800a989c8477",
   "metadata": {},
   "source": [
    "a) Create a list called \"fruits\" containing the following fruits: \"apple,\" \"banana,\" \"orange,\" \"grape,\" and \"kiwi.\" Print the list."
   ]
  },
  {
   "cell_type": "code",
   "execution_count": 6,
   "id": "c4967291-661f-41f0-9647-6e4f6e30cc4b",
   "metadata": {},
   "outputs": [
    {
     "name": "stdout",
     "output_type": "stream",
     "text": [
      "['apple', 'banana', 'orange', 'grape,', 'kiwi']\n"
     ]
    }
   ],
   "source": [
    "fruits = [\"apple\",\"banana\",\"orange\",\"grape,\",\"kiwi\"]\n",
    "print(fruits)"
   ]
  },
  {
   "cell_type": "markdown",
   "id": "079cfb09-56b1-47e5-995d-72a649984b84",
   "metadata": {},
   "source": [
    "b) Create a tuple named \"months\" with the names of the first three months of the year. Print the tuple."
   ]
  },
  {
   "cell_type": "code",
   "execution_count": 7,
   "id": "8f694362-8e41-479f-a362-9b2ca4ebe665",
   "metadata": {},
   "outputs": [
    {
     "name": "stdout",
     "output_type": "stream",
     "text": [
      "('January', 'February', 'March')\n"
     ]
    }
   ],
   "source": [
    "months = ('January', 'February', 'March')\n",
    "print(months)"
   ]
  },
  {
   "cell_type": "markdown",
   "id": "a7fc1121-0dee-4416-9ec3-d8d3c790899f",
   "metadata": {},
   "source": [
    "Task 4: List Manipulation"
   ]
  },
  {
   "cell_type": "markdown",
   "id": "576cb0ec-382c-4f5b-835f-a484e40e1cc8",
   "metadata": {},
   "source": [
    "a) Given the list of numbers below, write a Python program to calculate the sum and average of these numbers. Print both results.\n",
    "   numbers = [12, 34, 45, 67, 89, 100, 23, 56]"
   ]
  },
  {
   "cell_type": "code",
   "execution_count": 15,
   "id": "ae125b70-1860-4057-b330-9f6dafa9eab3",
   "metadata": {},
   "outputs": [
    {
     "name": "stdout",
     "output_type": "stream",
     "text": [
      "426\n",
      "53.25\n"
     ]
    }
   ],
   "source": [
    "numbers = [12, 34, 45, 67, 89, 100, 23, 56]\n",
    "i = sum = average = 0\n",
    "length = len(numbers)\n",
    "while i < length:\n",
    "    sum += numbers[i]\n",
    "    i += 1\n",
    "average = sum / length\n",
    "\n",
    "print(sum)\n",
    "print(average)"
   ]
  },
  {
   "cell_type": "markdown",
   "id": "02b50377-db68-4597-bcfc-7cb59a06dcca",
   "metadata": {},
   "source": [
    "b) Remove the first and last elements from the \"fruits\" list created earlier. Print the updated list"
   ]
  },
  {
   "cell_type": "code",
   "execution_count": 9,
   "id": "19910ace-f00a-4ae7-ba81-fcb49ae2ea47",
   "metadata": {},
   "outputs": [
    {
     "name": "stdout",
     "output_type": "stream",
     "text": [
      "['apple', 'banana', 'orange', 'grape,', 'kiwi']\n",
      "['banana', 'orange', 'grape,']\n"
     ]
    }
   ],
   "source": [
    "print(fruits)\n",
    "fruits.pop(0)\n",
    "fruits.pop(3)\n",
    "print(fruits)"
   ]
  }
 ],
 "metadata": {
  "kernelspec": {
   "display_name": "Python 3 (ipykernel)",
   "language": "python",
   "name": "python3"
  },
  "language_info": {
   "codemirror_mode": {
    "name": "ipython",
    "version": 3
   },
   "file_extension": ".py",
   "mimetype": "text/x-python",
   "name": "python",
   "nbconvert_exporter": "python",
   "pygments_lexer": "ipython3",
   "version": "3.11.5"
  }
 },
 "nbformat": 4,
 "nbformat_minor": 5
}
